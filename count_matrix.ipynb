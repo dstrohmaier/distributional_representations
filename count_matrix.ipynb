{
 "cells": [
  {
   "cell_type": "markdown",
   "metadata": {},
   "source": [
    "# Exploring Basic Distributional Representations\n",
    "\n",
    "When I started my studies in NLP, Word2Vec embeddings were already the standard for representing word types. Distributional representations based on counting the occurence of words were mentioned as precursers of Word2Vec embeddings, but we never got much hands on experience with them. In this notebook I explore basic techniques of creating such distributional representations."
   ]
  },
  {
   "cell_type": "code",
   "execution_count": 1,
   "metadata": {},
   "outputs": [],
   "source": [
    "import nltk\n",
    "import string\n",
    "import numpy as np\n",
    "import pandas as pd\n",
    "import matplotlib.pyplot as plt\n",
    "\n",
    "from numpy.linalg import svd\n",
    "from typing import List, Tuple\n",
    "from collections import Counter\n",
    "from scipy.spatial import distance\n",
    "\n",
    "from nltk import word_tokenize\n",
    "from nltk.stem.wordnet import WordNetLemmatizer\n",
    "from nltk.corpus import stopwords, wordnet, brown"
   ]
  },
  {
   "cell_type": "markdown",
   "metadata": {},
   "source": [
    "## Loading Corpora\n",
    "\n",
    "I am using six short pieces by philosopher and logician Charles S. Peirce as my corpus."
   ]
  },
  {
   "cell_type": "code",
   "execution_count": 2,
   "metadata": {},
   "outputs": [],
   "source": [
    "file_paths = [\"texts/\" + file_name for file_name in (\"fixation_of_belief.txt\",\n",
    "                                                     \"how_to_make_our_ideas_clear.txt\",\n",
    "                                                     \"the_doctrine_of_chances.txt\",\n",
    "                                                     \"the_probability_of_induction.txt\",\n",
    "                                                     \"the_order_of_nature.txt\",\n",
    "                                                     \"deduction,_induction_,and_hypothesis.txt\")]\n",
    "corpus = \"\"\n",
    "\n",
    "for path in file_paths:\n",
    "    with open(path, \"r\", encoding=\"utf-8\") as file:\n",
    "        corpus += file.read()\n",
    "        \n",
    "corpus = corpus.replace(\"—\", \" \")  # fix for tokenization problem"
   ]
  },
  {
   "cell_type": "markdown",
   "metadata": {},
   "source": [
    "First two sentences from Peirce's _The Fixation of Belief_"
   ]
  },
  {
   "cell_type": "code",
   "execution_count": 3,
   "metadata": {},
   "outputs": [
    {
     "data": {
      "text/plain": [
       "\"Few persons care to study logic, because everybody conceives himself to be proficient enough in the art of reasoning already. But I observe that this satisfaction is limited to one's own ratiocination, and does not extend to that of other men.\""
      ]
     },
     "execution_count": 3,
     "metadata": {},
     "output_type": "execute_result"
    }
   ],
   "source": [
    "corpus[:243]"
   ]
  },
  {
   "cell_type": "markdown",
   "metadata": {},
   "source": [
    "## Preparing Corpus\n",
    "\n",
    "To create distributional representations we have to prepare the corpus. The corpus is tokenized, lemmatized, and a vocabulary is created for it. This vocabulary does not include stopwords or punctuation."
   ]
  },
  {
   "cell_type": "markdown",
   "metadata": {},
   "source": [
    "First, I create a set of stopwords."
   ]
  },
  {
   "cell_type": "code",
   "execution_count": 4,
   "metadata": {},
   "outputs": [],
   "source": [
    "# nltk.download(\"stopwords\")  # might be required if corpus is not already downloaded, same for other corpora\n",
    "stop_words = set(stopwords.words(\"english\"))\n",
    "stop_words = stop_words.union(set(string.ascii_lowercase))\n",
    "stop_words = stop_words.union({\"doe\", \"'s\", \"ha\", \"wa\"})\n",
    "\n",
    "extended_punctuation = {\"''\", \"``\", \"´´\"}.union(set(string.punctuation))\n",
    "stop_words = stop_words.union(extended_punctuation)"
   ]
  },
  {
   "cell_type": "markdown",
   "metadata": {},
   "source": [
    "I create a function to lemmatize an already tokenized corpus. "
   ]
  },
  {
   "cell_type": "code",
   "execution_count": 5,
   "metadata": {},
   "outputs": [],
   "source": [
    "tag_dict= {\n",
    "    \"J\": wordnet.ADJ,\n",
    "    \"V\": wordnet.VERB,\n",
    "    \"N\": wordnet.NOUN,\n",
    "    \"R\": wordnet.ADV\n",
    "}\n",
    "\n",
    "\n",
    "def lemmatize_corpus(tokenized_corpus: List[str]) -> List[str]:\n",
    "    lemmatizer = WordNetLemmatizer()\n",
    "    tagged_corpus = nltk.pos_tag(tokenized_corpus)\n",
    "    \n",
    "    lemmatized_corpus = [lemmatizer.lemmatize(word, tag_dict.get(tag, wordnet.NOUN)).lower() for word, tag in tagged_corpus]\n",
    "    return lemmatized_corpus"
   ]
  },
  {
   "cell_type": "markdown",
   "metadata": {},
   "source": [
    "I create a function that prepares an entire corpus given as a string. This function returns a lemmatized corpus and a vocabulary (without stopwords) for that corpus. `prepare_corpus` also allows to create a vocabulary only for the `n` most common words."
   ]
  },
  {
   "cell_type": "code",
   "execution_count": 6,
   "metadata": {},
   "outputs": [],
   "source": [
    "def prepare_corpus(corpus: str, n: int = 0) -> Tuple[List[str], List[str]]:\n",
    "    tokenized_corpus = word_tokenize(corpus)\n",
    "    lemmatized_corpus = lemmatize_corpus(tokenized_corpus)\n",
    "    \n",
    "    if n == 0:\n",
    "        vocab = list(set(lemmatized_corpus).difference(stop_words))\n",
    "    else:\n",
    "        vocab_counter = Counter(lemmatized_corpus)\n",
    "        \n",
    "        for sw in stop_words:\n",
    "            vocab_counter[sw] = 0\n",
    "            \n",
    "        vocab = [w for w, _ in vocab_counter.most_common(n)]\n",
    "    \n",
    "    return lemmatized_corpus, vocab"
   ]
  },
  {
   "cell_type": "markdown",
   "metadata": {},
   "source": [
    "## Exploration of the Corpus\n",
    "\n",
    "Before diving into the distributional representation, it makes sense to explore the corpus a little. For example, we might want to check what the most common lemmas are."
   ]
  },
  {
   "cell_type": "code",
   "execution_count": 7,
   "metadata": {},
   "outputs": [
    {
     "data": {
      "text/plain": [
       "[(',', 2869),\n",
       " ('the', 2670),\n",
       " ('of', 2110),\n",
       " ('.', 1452),\n",
       " ('a', 1424),\n",
       " ('to', 1227),\n",
       " ('is', 987),\n",
       " ('in', 866),\n",
       " ('that', 865),\n",
       " ('and', 832)]"
      ]
     },
     "execution_count": 7,
     "metadata": {},
     "output_type": "execute_result"
    }
   ],
   "source": [
    "prepared_corpus, vocab = prepare_corpus(corpus)\n",
    "counter = Counter(prepared_corpus)\n",
    "counter.most_common(10)"
   ]
  },
  {
   "cell_type": "markdown",
   "metadata": {},
   "source": [
    "All of the 10 most common lemmas are stopwords, but we can also see the 10 most common content words."
   ]
  },
  {
   "cell_type": "code",
   "execution_count": 8,
   "metadata": {},
   "outputs": [
    {
     "data": {
      "text/plain": [
       "[('one', 212),\n",
       " ('would', 201),\n",
       " ('may', 168),\n",
       " ('probability', 139),\n",
       " ('fact', 134),\n",
       " ('number', 133),\n",
       " ('belief', 117),\n",
       " ('character', 106),\n",
       " ('true', 105),\n",
       " ('case', 99)]"
      ]
     },
     "execution_count": 8,
     "metadata": {},
     "output_type": "execute_result"
    }
   ],
   "source": [
    "for sw in stop_words:\n",
    "    counter[sw] = 0\n",
    "counter.most_common(10)"
   ]
  },
  {
   "cell_type": "markdown",
   "metadata": {},
   "source": [
    "#### Plotting the Most Common Words"
   ]
  },
  {
   "cell_type": "code",
   "execution_count": 9,
   "metadata": {},
   "outputs": [
    {
     "data": {
      "image/png": "[encoded data removed]",
      "text/plain": [
       "<Figure size 1000x500 with 1 Axes>"
      ]
     },
     "metadata": {
      "needs_background": "light"
     },
     "output_type": "display_data"
    }
   ],
   "source": [
    "plt.figure(figsize=(10,5), dpi=100)\n",
    "\n",
    "labels, values = zip(*counter.most_common(25))\n",
    "\n",
    "indexes = np.arange(len(labels))\n",
    "\n",
    "plt.barh(indexes, values[::-1])\n",
    "plt.yticks(indexes, labels[::-1])\n",
    "\n",
    "plt.xlabel('Count')\n",
    "plt.show()"
   ]
  },
  {
   "cell_type": "markdown",
   "metadata": {},
   "source": [
    "Number of all types in corpus (including stop words)"
   ]
  },
  {
   "cell_type": "code",
   "execution_count": 10,
   "metadata": {},
   "outputs": [
    {
     "data": {
      "text/plain": [
       "4093"
      ]
     },
     "execution_count": 10,
     "metadata": {},
     "output_type": "execute_result"
    }
   ],
   "source": [
    "len(counter)"
   ]
  },
  {
   "cell_type": "markdown",
   "metadata": {},
   "source": [
    "Number of hapax legomena (words that occure once in the corpus)"
   ]
  },
  {
   "cell_type": "code",
   "execution_count": 11,
   "metadata": {},
   "outputs": [
    {
     "data": {
      "text/plain": [
       "1938"
      ]
     },
     "execution_count": 11,
     "metadata": {},
     "output_type": "execute_result"
    }
   ],
   "source": [
    "sum([1 for _, c in counter.items() if c == 1])"
   ]
  },
  {
   "cell_type": "markdown",
   "metadata": {},
   "source": [
    "## Create Count Matrix\n",
    "\n",
    "The core function `generate_count_matrix` creates a count matrix and a vocabulary index for that matrix. The implementation here is general for all sizes of sliding windows, but they need to be symmetric. "
   ]
  },
  {
   "cell_type": "code",
   "execution_count": 12,
   "metadata": {},
   "outputs": [],
   "source": [
    "def generate_count_matrix(processed_corpus: List[str], vocab: List[str], n: int = 2) -> Tuple[np.matrix, dict]:\n",
    "    assert n > 0, \"Do not use negative sizes for sliding windows\"\n",
    "    \n",
    "    vocab_index = {token: i for i, token in enumerate(vocab)}\n",
    "    count_matrix = np.zeros((len(vocab), len(vocab)))\n",
    "    \n",
    "    for i, token in enumerate(processed_corpus):\n",
    "        if token not in vocab:\n",
    "                continue\n",
    "                \n",
    "        index = vocab_index[token]\n",
    "        \n",
    "        prior_indices = [j for j in range(i-n, i) if j >= 0]\n",
    "        posterior_indices = [j for j in range(i+1, i+n+1) if j < len(processed_corpus)]\n",
    "        surrounding_indices =  prior_indices + posterior_indices\n",
    "        \n",
    "        for j in surrounding_indices:\n",
    "            other_token = processed_corpus[j]\n",
    "            \n",
    "            if other_token not in vocab:\n",
    "                continue\n",
    "            \n",
    "            other_index = vocab_index[other_token]\n",
    "            count_matrix[index][other_index] += 1\n",
    "            count_matrix[other_index][index] += 1\n",
    "    \n",
    "    return np.matrix(count_matrix), vocab_index"
   ]
  },
  {
   "cell_type": "markdown",
   "metadata": {},
   "source": [
    "### Count Matrix for Peirce's Texts\n",
    "\n",
    "We can now create a simple co-occurence matrix for the corpus. Here I am taking a rather large sliding window of 5 on each side, i.e. each token sees its 10 surrounding tokens."
   ]
  },
  {
   "cell_type": "code",
   "execution_count": 13,
   "metadata": {},
   "outputs": [
    {
     "data": {
      "text/html": [
       "<div>\n",
       "<style scoped>\n",
       "    .dataframe tbody tr th:only-of-type {\n",
       "        vertical-align: middle;\n",
       "    }\n",
       "\n",
       "    .dataframe tbody tr th {\n",
       "        vertical-align: top;\n",
       "    }\n",
       "\n",
       "    .dataframe thead th {\n",
       "        text-align: right;\n",
       "    }\n",
       "</style>\n",
       "<table border=\"1\" class=\"dataframe\">\n",
       "  <thead>\n",
       "    <tr style=\"text-align: right;\">\n",
       "      <th></th>\n",
       "      <th>mentioned</th>\n",
       "      <th>impossibility</th>\n",
       "      <th>upon</th>\n",
       "      <th>inductively</th>\n",
       "      <th>untraveled</th>\n",
       "      <th>intent</th>\n",
       "      <th>ask</th>\n",
       "      <th>affirm</th>\n",
       "      <th>unfamiliar</th>\n",
       "      <th>un-b-ness</th>\n",
       "      <th>...</th>\n",
       "      <th>evolution</th>\n",
       "      <th>unrelated</th>\n",
       "      <th>wavering</th>\n",
       "      <th>denied</th>\n",
       "      <th>similarity</th>\n",
       "      <th>candour</th>\n",
       "      <th>refined</th>\n",
       "      <th>lightning</th>\n",
       "      <th>limited</th>\n",
       "      <th>exist</th>\n",
       "    </tr>\n",
       "  </thead>\n",
       "  <tbody>\n",
       "    <tr>\n",
       "      <th>mentioned</th>\n",
       "      <td>0.0</td>\n",
       "      <td>0.0</td>\n",
       "      <td>0.0</td>\n",
       "      <td>0.0</td>\n",
       "      <td>0.0</td>\n",
       "      <td>0.0</td>\n",
       "      <td>0.0</td>\n",
       "      <td>0.0</td>\n",
       "      <td>0.0</td>\n",
       "      <td>0.0</td>\n",
       "      <td>...</td>\n",
       "      <td>0.0</td>\n",
       "      <td>0.0</td>\n",
       "      <td>0.0</td>\n",
       "      <td>0.0</td>\n",
       "      <td>0.0</td>\n",
       "      <td>0.0</td>\n",
       "      <td>0.0</td>\n",
       "      <td>0.0</td>\n",
       "      <td>0.0</td>\n",
       "      <td>0.0</td>\n",
       "    </tr>\n",
       "    <tr>\n",
       "      <th>impossibility</th>\n",
       "      <td>0.0</td>\n",
       "      <td>0.0</td>\n",
       "      <td>0.0</td>\n",
       "      <td>2.0</td>\n",
       "      <td>0.0</td>\n",
       "      <td>0.0</td>\n",
       "      <td>0.0</td>\n",
       "      <td>0.0</td>\n",
       "      <td>0.0</td>\n",
       "      <td>0.0</td>\n",
       "      <td>...</td>\n",
       "      <td>0.0</td>\n",
       "      <td>0.0</td>\n",
       "      <td>0.0</td>\n",
       "      <td>0.0</td>\n",
       "      <td>0.0</td>\n",
       "      <td>0.0</td>\n",
       "      <td>0.0</td>\n",
       "      <td>0.0</td>\n",
       "      <td>0.0</td>\n",
       "      <td>0.0</td>\n",
       "    </tr>\n",
       "    <tr>\n",
       "      <th>upon</th>\n",
       "      <td>0.0</td>\n",
       "      <td>0.0</td>\n",
       "      <td>0.0</td>\n",
       "      <td>0.0</td>\n",
       "      <td>0.0</td>\n",
       "      <td>0.0</td>\n",
       "      <td>0.0</td>\n",
       "      <td>0.0</td>\n",
       "      <td>0.0</td>\n",
       "      <td>0.0</td>\n",
       "      <td>...</td>\n",
       "      <td>0.0</td>\n",
       "      <td>0.0</td>\n",
       "      <td>0.0</td>\n",
       "      <td>0.0</td>\n",
       "      <td>0.0</td>\n",
       "      <td>0.0</td>\n",
       "      <td>0.0</td>\n",
       "      <td>2.0</td>\n",
       "      <td>0.0</td>\n",
       "      <td>0.0</td>\n",
       "    </tr>\n",
       "    <tr>\n",
       "      <th>inductively</th>\n",
       "      <td>0.0</td>\n",
       "      <td>2.0</td>\n",
       "      <td>0.0</td>\n",
       "      <td>0.0</td>\n",
       "      <td>0.0</td>\n",
       "      <td>0.0</td>\n",
       "      <td>0.0</td>\n",
       "      <td>0.0</td>\n",
       "      <td>0.0</td>\n",
       "      <td>0.0</td>\n",
       "      <td>...</td>\n",
       "      <td>0.0</td>\n",
       "      <td>0.0</td>\n",
       "      <td>0.0</td>\n",
       "      <td>0.0</td>\n",
       "      <td>0.0</td>\n",
       "      <td>0.0</td>\n",
       "      <td>0.0</td>\n",
       "      <td>0.0</td>\n",
       "      <td>0.0</td>\n",
       "      <td>0.0</td>\n",
       "    </tr>\n",
       "    <tr>\n",
       "      <th>untraveled</th>\n",
       "      <td>0.0</td>\n",
       "      <td>0.0</td>\n",
       "      <td>0.0</td>\n",
       "      <td>0.0</td>\n",
       "      <td>0.0</td>\n",
       "      <td>0.0</td>\n",
       "      <td>0.0</td>\n",
       "      <td>0.0</td>\n",
       "      <td>0.0</td>\n",
       "      <td>0.0</td>\n",
       "      <td>...</td>\n",
       "      <td>0.0</td>\n",
       "      <td>0.0</td>\n",
       "      <td>0.0</td>\n",
       "      <td>0.0</td>\n",
       "      <td>0.0</td>\n",
       "      <td>0.0</td>\n",
       "      <td>0.0</td>\n",
       "      <td>0.0</td>\n",
       "      <td>0.0</td>\n",
       "      <td>0.0</td>\n",
       "    </tr>\n",
       "    <tr>\n",
       "      <th>...</th>\n",
       "      <td>...</td>\n",
       "      <td>...</td>\n",
       "      <td>...</td>\n",
       "      <td>...</td>\n",
       "      <td>...</td>\n",
       "      <td>...</td>\n",
       "      <td>...</td>\n",
       "      <td>...</td>\n",
       "      <td>...</td>\n",
       "      <td>...</td>\n",
       "      <td>...</td>\n",
       "      <td>...</td>\n",
       "      <td>...</td>\n",
       "      <td>...</td>\n",
       "      <td>...</td>\n",
       "      <td>...</td>\n",
       "      <td>...</td>\n",
       "      <td>...</td>\n",
       "      <td>...</td>\n",
       "      <td>...</td>\n",
       "      <td>...</td>\n",
       "    </tr>\n",
       "    <tr>\n",
       "      <th>candour</th>\n",
       "      <td>0.0</td>\n",
       "      <td>0.0</td>\n",
       "      <td>0.0</td>\n",
       "      <td>0.0</td>\n",
       "      <td>0.0</td>\n",
       "      <td>0.0</td>\n",
       "      <td>0.0</td>\n",
       "      <td>0.0</td>\n",
       "      <td>0.0</td>\n",
       "      <td>0.0</td>\n",
       "      <td>...</td>\n",
       "      <td>0.0</td>\n",
       "      <td>0.0</td>\n",
       "      <td>0.0</td>\n",
       "      <td>0.0</td>\n",
       "      <td>0.0</td>\n",
       "      <td>0.0</td>\n",
       "      <td>0.0</td>\n",
       "      <td>0.0</td>\n",
       "      <td>0.0</td>\n",
       "      <td>0.0</td>\n",
       "    </tr>\n",
       "    <tr>\n",
       "      <th>refined</th>\n",
       "      <td>0.0</td>\n",
       "      <td>0.0</td>\n",
       "      <td>0.0</td>\n",
       "      <td>0.0</td>\n",
       "      <td>0.0</td>\n",
       "      <td>0.0</td>\n",
       "      <td>0.0</td>\n",
       "      <td>0.0</td>\n",
       "      <td>0.0</td>\n",
       "      <td>0.0</td>\n",
       "      <td>...</td>\n",
       "      <td>0.0</td>\n",
       "      <td>0.0</td>\n",
       "      <td>0.0</td>\n",
       "      <td>0.0</td>\n",
       "      <td>0.0</td>\n",
       "      <td>0.0</td>\n",
       "      <td>0.0</td>\n",
       "      <td>0.0</td>\n",
       "      <td>0.0</td>\n",
       "      <td>0.0</td>\n",
       "    </tr>\n",
       "    <tr>\n",
       "      <th>lightning</th>\n",
       "      <td>0.0</td>\n",
       "      <td>0.0</td>\n",
       "      <td>2.0</td>\n",
       "      <td>0.0</td>\n",
       "      <td>0.0</td>\n",
       "      <td>0.0</td>\n",
       "      <td>0.0</td>\n",
       "      <td>0.0</td>\n",
       "      <td>0.0</td>\n",
       "      <td>0.0</td>\n",
       "      <td>...</td>\n",
       "      <td>0.0</td>\n",
       "      <td>0.0</td>\n",
       "      <td>0.0</td>\n",
       "      <td>0.0</td>\n",
       "      <td>0.0</td>\n",
       "      <td>0.0</td>\n",
       "      <td>0.0</td>\n",
       "      <td>0.0</td>\n",
       "      <td>0.0</td>\n",
       "      <td>0.0</td>\n",
       "    </tr>\n",
       "    <tr>\n",
       "      <th>limited</th>\n",
       "      <td>0.0</td>\n",
       "      <td>0.0</td>\n",
       "      <td>0.0</td>\n",
       "      <td>0.0</td>\n",
       "      <td>0.0</td>\n",
       "      <td>0.0</td>\n",
       "      <td>0.0</td>\n",
       "      <td>0.0</td>\n",
       "      <td>0.0</td>\n",
       "      <td>0.0</td>\n",
       "      <td>...</td>\n",
       "      <td>0.0</td>\n",
       "      <td>0.0</td>\n",
       "      <td>0.0</td>\n",
       "      <td>0.0</td>\n",
       "      <td>0.0</td>\n",
       "      <td>0.0</td>\n",
       "      <td>0.0</td>\n",
       "      <td>0.0</td>\n",
       "      <td>8.0</td>\n",
       "      <td>0.0</td>\n",
       "    </tr>\n",
       "    <tr>\n",
       "      <th>exist</th>\n",
       "      <td>0.0</td>\n",
       "      <td>0.0</td>\n",
       "      <td>0.0</td>\n",
       "      <td>0.0</td>\n",
       "      <td>0.0</td>\n",
       "      <td>0.0</td>\n",
       "      <td>0.0</td>\n",
       "      <td>0.0</td>\n",
       "      <td>0.0</td>\n",
       "      <td>0.0</td>\n",
       "      <td>...</td>\n",
       "      <td>0.0</td>\n",
       "      <td>0.0</td>\n",
       "      <td>0.0</td>\n",
       "      <td>0.0</td>\n",
       "      <td>0.0</td>\n",
       "      <td>0.0</td>\n",
       "      <td>0.0</td>\n",
       "      <td>0.0</td>\n",
       "      <td>0.0</td>\n",
       "      <td>0.0</td>\n",
       "    </tr>\n",
       "  </tbody>\n",
       "</table>\n",
       "<p>3857 rows × 3857 columns</p>\n",
       "</div>"
      ],
      "text/plain": [
       "               mentioned  impossibility  upon  inductively  untraveled  \\\n",
       "mentioned            0.0            0.0   0.0          0.0         0.0   \n",
       "impossibility        0.0            0.0   0.0          2.0         0.0   \n",
       "upon                 0.0            0.0   0.0          0.0         0.0   \n",
       "inductively          0.0            2.0   0.0          0.0         0.0   \n",
       "untraveled           0.0            0.0   0.0          0.0         0.0   \n",
       "...                  ...            ...   ...          ...         ...   \n",
       "candour              0.0            0.0   0.0          0.0         0.0   \n",
       "refined              0.0            0.0   0.0          0.0         0.0   \n",
       "lightning            0.0            0.0   2.0          0.0         0.0   \n",
       "limited              0.0            0.0   0.0          0.0         0.0   \n",
       "exist                0.0            0.0   0.0          0.0         0.0   \n",
       "\n",
       "               intent  ask  affirm  unfamiliar  un-b-ness  ...  evolution  \\\n",
       "mentioned         0.0  0.0     0.0         0.0        0.0  ...        0.0   \n",
       "impossibility     0.0  0.0     0.0         0.0        0.0  ...        0.0   \n",
       "upon              0.0  0.0     0.0         0.0        0.0  ...        0.0   \n",
       "inductively       0.0  0.0     0.0         0.0        0.0  ...        0.0   \n",
       "untraveled        0.0  0.0     0.0         0.0        0.0  ...        0.0   \n",
       "...               ...  ...     ...         ...        ...  ...        ...   \n",
       "candour           0.0  0.0     0.0         0.0        0.0  ...        0.0   \n",
       "refined           0.0  0.0     0.0         0.0        0.0  ...        0.0   \n",
       "lightning         0.0  0.0     0.0         0.0        0.0  ...        0.0   \n",
       "limited           0.0  0.0     0.0         0.0        0.0  ...        0.0   \n",
       "exist             0.0  0.0     0.0         0.0        0.0  ...        0.0   \n",
       "\n",
       "               unrelated  wavering  denied  similarity  candour  refined  \\\n",
       "mentioned            0.0       0.0     0.0         0.0      0.0      0.0   \n",
       "impossibility        0.0       0.0     0.0         0.0      0.0      0.0   \n",
       "upon                 0.0       0.0     0.0         0.0      0.0      0.0   \n",
       "inductively          0.0       0.0     0.0         0.0      0.0      0.0   \n",
       "untraveled           0.0       0.0     0.0         0.0      0.0      0.0   \n",
       "...                  ...       ...     ...         ...      ...      ...   \n",
       "candour              0.0       0.0     0.0         0.0      0.0      0.0   \n",
       "refined              0.0       0.0     0.0         0.0      0.0      0.0   \n",
       "lightning            0.0       0.0     0.0         0.0      0.0      0.0   \n",
       "limited              0.0       0.0     0.0         0.0      0.0      0.0   \n",
       "exist                0.0       0.0     0.0         0.0      0.0      0.0   \n",
       "\n",
       "               lightning  limited  exist  \n",
       "mentioned            0.0      0.0    0.0  \n",
       "impossibility        0.0      0.0    0.0  \n",
       "upon                 2.0      0.0    0.0  \n",
       "inductively          0.0      0.0    0.0  \n",
       "untraveled           0.0      0.0    0.0  \n",
       "...                  ...      ...    ...  \n",
       "candour              0.0      0.0    0.0  \n",
       "refined              0.0      0.0    0.0  \n",
       "lightning            0.0      0.0    0.0  \n",
       "limited              0.0      8.0    0.0  \n",
       "exist                0.0      0.0    0.0  \n",
       "\n",
       "[3857 rows x 3857 columns]"
      ]
     },
     "execution_count": 13,
     "metadata": {},
     "output_type": "execute_result"
    }
   ],
   "source": [
    "count_matrix, vocab_index = generate_count_matrix(prepared_corpus, vocab, 5)\n",
    "pd.DataFrame(count_matrix, index=vocab_index, columns=vocab_index)"
   ]
  },
  {
   "cell_type": "markdown",
   "metadata": {},
   "source": [
    "As can be seen here the initial count matrix is extremely sparse. This sparseness results from a relatively large vocabulary for a small corpus. While I picked a large window size most word types won't have tokens that meet in a window."
   ]
  },
  {
   "cell_type": "markdown",
   "metadata": {},
   "source": [
    "### Example of a Small Count Matrix\n",
    "In this example I use only the 25 most common words to create a count matrix. As can be seen, this matrix is considerably denser."
   ]
  },
  {
   "cell_type": "code",
   "execution_count": 14,
   "metadata": {},
   "outputs": [
    {
     "data": {
      "text/html": [
       "<div>\n",
       "<style scoped>\n",
       "    .dataframe tbody tr th:only-of-type {\n",
       "        vertical-align: middle;\n",
       "    }\n",
       "\n",
       "    .dataframe tbody tr th {\n",
       "        vertical-align: top;\n",
       "    }\n",
       "\n",
       "    .dataframe thead th {\n",
       "        text-align: right;\n",
       "    }\n",
       "</style>\n",
       "<table border=\"1\" class=\"dataframe\">\n",
       "  <thead>\n",
       "    <tr style=\"text-align: right;\">\n",
       "      <th></th>\n",
       "      <th>one</th>\n",
       "      <th>would</th>\n",
       "      <th>may</th>\n",
       "      <th>probability</th>\n",
       "      <th>fact</th>\n",
       "      <th>number</th>\n",
       "      <th>belief</th>\n",
       "      <th>character</th>\n",
       "      <th>true</th>\n",
       "      <th>case</th>\n",
       "      <th>...</th>\n",
       "      <th>two</th>\n",
       "      <th>thing</th>\n",
       "      <th>method</th>\n",
       "      <th>time</th>\n",
       "      <th>different</th>\n",
       "      <th>another</th>\n",
       "      <th>induction</th>\n",
       "      <th>question</th>\n",
       "      <th>man</th>\n",
       "      <th>idea</th>\n",
       "    </tr>\n",
       "  </thead>\n",
       "  <tbody>\n",
       "    <tr>\n",
       "      <th>one</th>\n",
       "      <td>8.0</td>\n",
       "      <td>28.0</td>\n",
       "      <td>12.0</td>\n",
       "      <td>8.0</td>\n",
       "      <td>24.0</td>\n",
       "      <td>8.0</td>\n",
       "      <td>8.0</td>\n",
       "      <td>10.0</td>\n",
       "      <td>12.0</td>\n",
       "      <td>0.0</td>\n",
       "      <td>...</td>\n",
       "      <td>16.0</td>\n",
       "      <td>10.0</td>\n",
       "      <td>4.0</td>\n",
       "      <td>6.0</td>\n",
       "      <td>12.0</td>\n",
       "      <td>58.0</td>\n",
       "      <td>4.0</td>\n",
       "      <td>8.0</td>\n",
       "      <td>10.0</td>\n",
       "      <td>6.0</td>\n",
       "    </tr>\n",
       "    <tr>\n",
       "      <th>would</th>\n",
       "      <td>28.0</td>\n",
       "      <td>8.0</td>\n",
       "      <td>4.0</td>\n",
       "      <td>8.0</td>\n",
       "      <td>10.0</td>\n",
       "      <td>24.0</td>\n",
       "      <td>8.0</td>\n",
       "      <td>8.0</td>\n",
       "      <td>8.0</td>\n",
       "      <td>6.0</td>\n",
       "      <td>...</td>\n",
       "      <td>8.0</td>\n",
       "      <td>2.0</td>\n",
       "      <td>4.0</td>\n",
       "      <td>4.0</td>\n",
       "      <td>10.0</td>\n",
       "      <td>8.0</td>\n",
       "      <td>2.0</td>\n",
       "      <td>8.0</td>\n",
       "      <td>10.0</td>\n",
       "      <td>0.0</td>\n",
       "    </tr>\n",
       "    <tr>\n",
       "      <th>may</th>\n",
       "      <td>12.0</td>\n",
       "      <td>4.0</td>\n",
       "      <td>0.0</td>\n",
       "      <td>8.0</td>\n",
       "      <td>8.0</td>\n",
       "      <td>8.0</td>\n",
       "      <td>14.0</td>\n",
       "      <td>12.0</td>\n",
       "      <td>4.0</td>\n",
       "      <td>14.0</td>\n",
       "      <td>...</td>\n",
       "      <td>6.0</td>\n",
       "      <td>4.0</td>\n",
       "      <td>6.0</td>\n",
       "      <td>4.0</td>\n",
       "      <td>8.0</td>\n",
       "      <td>4.0</td>\n",
       "      <td>8.0</td>\n",
       "      <td>8.0</td>\n",
       "      <td>6.0</td>\n",
       "      <td>4.0</td>\n",
       "    </tr>\n",
       "    <tr>\n",
       "      <th>probability</th>\n",
       "      <td>8.0</td>\n",
       "      <td>8.0</td>\n",
       "      <td>8.0</td>\n",
       "      <td>8.0</td>\n",
       "      <td>8.0</td>\n",
       "      <td>6.0</td>\n",
       "      <td>2.0</td>\n",
       "      <td>4.0</td>\n",
       "      <td>8.0</td>\n",
       "      <td>8.0</td>\n",
       "      <td>...</td>\n",
       "      <td>20.0</td>\n",
       "      <td>4.0</td>\n",
       "      <td>2.0</td>\n",
       "      <td>0.0</td>\n",
       "      <td>6.0</td>\n",
       "      <td>8.0</td>\n",
       "      <td>2.0</td>\n",
       "      <td>8.0</td>\n",
       "      <td>0.0</td>\n",
       "      <td>10.0</td>\n",
       "    </tr>\n",
       "    <tr>\n",
       "      <th>fact</th>\n",
       "      <td>24.0</td>\n",
       "      <td>10.0</td>\n",
       "      <td>8.0</td>\n",
       "      <td>8.0</td>\n",
       "      <td>12.0</td>\n",
       "      <td>4.0</td>\n",
       "      <td>4.0</td>\n",
       "      <td>6.0</td>\n",
       "      <td>6.0</td>\n",
       "      <td>10.0</td>\n",
       "      <td>...</td>\n",
       "      <td>0.0</td>\n",
       "      <td>2.0</td>\n",
       "      <td>4.0</td>\n",
       "      <td>0.0</td>\n",
       "      <td>16.0</td>\n",
       "      <td>22.0</td>\n",
       "      <td>6.0</td>\n",
       "      <td>14.0</td>\n",
       "      <td>2.0</td>\n",
       "      <td>6.0</td>\n",
       "    </tr>\n",
       "    <tr>\n",
       "      <th>number</th>\n",
       "      <td>8.0</td>\n",
       "      <td>24.0</td>\n",
       "      <td>8.0</td>\n",
       "      <td>6.0</td>\n",
       "      <td>4.0</td>\n",
       "      <td>24.0</td>\n",
       "      <td>2.0</td>\n",
       "      <td>6.0</td>\n",
       "      <td>4.0</td>\n",
       "      <td>10.0</td>\n",
       "      <td>...</td>\n",
       "      <td>20.0</td>\n",
       "      <td>6.0</td>\n",
       "      <td>0.0</td>\n",
       "      <td>14.0</td>\n",
       "      <td>6.0</td>\n",
       "      <td>2.0</td>\n",
       "      <td>4.0</td>\n",
       "      <td>2.0</td>\n",
       "      <td>0.0</td>\n",
       "      <td>2.0</td>\n",
       "    </tr>\n",
       "    <tr>\n",
       "      <th>belief</th>\n",
       "      <td>8.0</td>\n",
       "      <td>8.0</td>\n",
       "      <td>14.0</td>\n",
       "      <td>2.0</td>\n",
       "      <td>4.0</td>\n",
       "      <td>2.0</td>\n",
       "      <td>16.0</td>\n",
       "      <td>0.0</td>\n",
       "      <td>8.0</td>\n",
       "      <td>0.0</td>\n",
       "      <td>...</td>\n",
       "      <td>2.0</td>\n",
       "      <td>2.0</td>\n",
       "      <td>12.0</td>\n",
       "      <td>0.0</td>\n",
       "      <td>12.0</td>\n",
       "      <td>2.0</td>\n",
       "      <td>2.0</td>\n",
       "      <td>2.0</td>\n",
       "      <td>2.0</td>\n",
       "      <td>2.0</td>\n",
       "    </tr>\n",
       "    <tr>\n",
       "      <th>character</th>\n",
       "      <td>10.0</td>\n",
       "      <td>8.0</td>\n",
       "      <td>12.0</td>\n",
       "      <td>4.0</td>\n",
       "      <td>6.0</td>\n",
       "      <td>6.0</td>\n",
       "      <td>0.0</td>\n",
       "      <td>8.0</td>\n",
       "      <td>4.0</td>\n",
       "      <td>4.0</td>\n",
       "      <td>...</td>\n",
       "      <td>8.0</td>\n",
       "      <td>8.0</td>\n",
       "      <td>0.0</td>\n",
       "      <td>0.0</td>\n",
       "      <td>12.0</td>\n",
       "      <td>6.0</td>\n",
       "      <td>6.0</td>\n",
       "      <td>4.0</td>\n",
       "      <td>0.0</td>\n",
       "      <td>0.0</td>\n",
       "    </tr>\n",
       "    <tr>\n",
       "      <th>true</th>\n",
       "      <td>12.0</td>\n",
       "      <td>8.0</td>\n",
       "      <td>4.0</td>\n",
       "      <td>8.0</td>\n",
       "      <td>6.0</td>\n",
       "      <td>4.0</td>\n",
       "      <td>8.0</td>\n",
       "      <td>4.0</td>\n",
       "      <td>20.0</td>\n",
       "      <td>8.0</td>\n",
       "      <td>...</td>\n",
       "      <td>6.0</td>\n",
       "      <td>20.0</td>\n",
       "      <td>0.0</td>\n",
       "      <td>6.0</td>\n",
       "      <td>6.0</td>\n",
       "      <td>2.0</td>\n",
       "      <td>8.0</td>\n",
       "      <td>2.0</td>\n",
       "      <td>2.0</td>\n",
       "      <td>2.0</td>\n",
       "    </tr>\n",
       "    <tr>\n",
       "      <th>case</th>\n",
       "      <td>0.0</td>\n",
       "      <td>6.0</td>\n",
       "      <td>14.0</td>\n",
       "      <td>8.0</td>\n",
       "      <td>10.0</td>\n",
       "      <td>10.0</td>\n",
       "      <td>0.0</td>\n",
       "      <td>4.0</td>\n",
       "      <td>8.0</td>\n",
       "      <td>8.0</td>\n",
       "      <td>...</td>\n",
       "      <td>0.0</td>\n",
       "      <td>0.0</td>\n",
       "      <td>2.0</td>\n",
       "      <td>4.0</td>\n",
       "      <td>6.0</td>\n",
       "      <td>6.0</td>\n",
       "      <td>2.0</td>\n",
       "      <td>2.0</td>\n",
       "      <td>2.0</td>\n",
       "      <td>2.0</td>\n",
       "    </tr>\n",
       "    <tr>\n",
       "      <th>inference</th>\n",
       "      <td>10.0</td>\n",
       "      <td>2.0</td>\n",
       "      <td>14.0</td>\n",
       "      <td>10.0</td>\n",
       "      <td>4.0</td>\n",
       "      <td>4.0</td>\n",
       "      <td>0.0</td>\n",
       "      <td>8.0</td>\n",
       "      <td>2.0</td>\n",
       "      <td>8.0</td>\n",
       "      <td>...</td>\n",
       "      <td>12.0</td>\n",
       "      <td>2.0</td>\n",
       "      <td>0.0</td>\n",
       "      <td>0.0</td>\n",
       "      <td>8.0</td>\n",
       "      <td>4.0</td>\n",
       "      <td>8.0</td>\n",
       "      <td>0.0</td>\n",
       "      <td>6.0</td>\n",
       "      <td>0.0</td>\n",
       "    </tr>\n",
       "    <tr>\n",
       "      <th>rule</th>\n",
       "      <td>2.0</td>\n",
       "      <td>6.0</td>\n",
       "      <td>8.0</td>\n",
       "      <td>12.0</td>\n",
       "      <td>6.0</td>\n",
       "      <td>2.0</td>\n",
       "      <td>8.0</td>\n",
       "      <td>0.0</td>\n",
       "      <td>2.0</td>\n",
       "      <td>20.0</td>\n",
       "      <td>...</td>\n",
       "      <td>6.0</td>\n",
       "      <td>0.0</td>\n",
       "      <td>0.0</td>\n",
       "      <td>0.0</td>\n",
       "      <td>2.0</td>\n",
       "      <td>2.0</td>\n",
       "      <td>4.0</td>\n",
       "      <td>0.0</td>\n",
       "      <td>0.0</td>\n",
       "      <td>0.0</td>\n",
       "    </tr>\n",
       "    <tr>\n",
       "      <th>first</th>\n",
       "      <td>10.0</td>\n",
       "      <td>12.0</td>\n",
       "      <td>2.0</td>\n",
       "      <td>6.0</td>\n",
       "      <td>4.0</td>\n",
       "      <td>4.0</td>\n",
       "      <td>0.0</td>\n",
       "      <td>4.0</td>\n",
       "      <td>2.0</td>\n",
       "      <td>4.0</td>\n",
       "      <td>...</td>\n",
       "      <td>16.0</td>\n",
       "      <td>2.0</td>\n",
       "      <td>6.0</td>\n",
       "      <td>0.0</td>\n",
       "      <td>2.0</td>\n",
       "      <td>2.0</td>\n",
       "      <td>0.0</td>\n",
       "      <td>12.0</td>\n",
       "      <td>0.0</td>\n",
       "      <td>0.0</td>\n",
       "    </tr>\n",
       "    <tr>\n",
       "      <th>must</th>\n",
       "      <td>4.0</td>\n",
       "      <td>2.0</td>\n",
       "      <td>0.0</td>\n",
       "      <td>2.0</td>\n",
       "      <td>6.0</td>\n",
       "      <td>2.0</td>\n",
       "      <td>2.0</td>\n",
       "      <td>4.0</td>\n",
       "      <td>6.0</td>\n",
       "      <td>6.0</td>\n",
       "      <td>...</td>\n",
       "      <td>2.0</td>\n",
       "      <td>2.0</td>\n",
       "      <td>10.0</td>\n",
       "      <td>2.0</td>\n",
       "      <td>4.0</td>\n",
       "      <td>2.0</td>\n",
       "      <td>0.0</td>\n",
       "      <td>0.0</td>\n",
       "      <td>4.0</td>\n",
       "      <td>2.0</td>\n",
       "    </tr>\n",
       "    <tr>\n",
       "      <th>certain</th>\n",
       "      <td>8.0</td>\n",
       "      <td>8.0</td>\n",
       "      <td>6.0</td>\n",
       "      <td>0.0</td>\n",
       "      <td>6.0</td>\n",
       "      <td>4.0</td>\n",
       "      <td>2.0</td>\n",
       "      <td>10.0</td>\n",
       "      <td>4.0</td>\n",
       "      <td>10.0</td>\n",
       "      <td>...</td>\n",
       "      <td>2.0</td>\n",
       "      <td>8.0</td>\n",
       "      <td>0.0</td>\n",
       "      <td>2.0</td>\n",
       "      <td>0.0</td>\n",
       "      <td>2.0</td>\n",
       "      <td>2.0</td>\n",
       "      <td>2.0</td>\n",
       "      <td>4.0</td>\n",
       "      <td>0.0</td>\n",
       "    </tr>\n",
       "    <tr>\n",
       "      <th>two</th>\n",
       "      <td>16.0</td>\n",
       "      <td>8.0</td>\n",
       "      <td>6.0</td>\n",
       "      <td>20.0</td>\n",
       "      <td>0.0</td>\n",
       "      <td>20.0</td>\n",
       "      <td>2.0</td>\n",
       "      <td>8.0</td>\n",
       "      <td>6.0</td>\n",
       "      <td>0.0</td>\n",
       "      <td>...</td>\n",
       "      <td>4.0</td>\n",
       "      <td>8.0</td>\n",
       "      <td>0.0</td>\n",
       "      <td>2.0</td>\n",
       "      <td>6.0</td>\n",
       "      <td>2.0</td>\n",
       "      <td>0.0</td>\n",
       "      <td>2.0</td>\n",
       "      <td>0.0</td>\n",
       "      <td>0.0</td>\n",
       "    </tr>\n",
       "    <tr>\n",
       "      <th>thing</th>\n",
       "      <td>10.0</td>\n",
       "      <td>2.0</td>\n",
       "      <td>4.0</td>\n",
       "      <td>4.0</td>\n",
       "      <td>2.0</td>\n",
       "      <td>6.0</td>\n",
       "      <td>2.0</td>\n",
       "      <td>8.0</td>\n",
       "      <td>20.0</td>\n",
       "      <td>0.0</td>\n",
       "      <td>...</td>\n",
       "      <td>8.0</td>\n",
       "      <td>8.0</td>\n",
       "      <td>2.0</td>\n",
       "      <td>2.0</td>\n",
       "      <td>8.0</td>\n",
       "      <td>6.0</td>\n",
       "      <td>2.0</td>\n",
       "      <td>2.0</td>\n",
       "      <td>0.0</td>\n",
       "      <td>2.0</td>\n",
       "    </tr>\n",
       "    <tr>\n",
       "      <th>method</th>\n",
       "      <td>4.0</td>\n",
       "      <td>4.0</td>\n",
       "      <td>6.0</td>\n",
       "      <td>2.0</td>\n",
       "      <td>4.0</td>\n",
       "      <td>0.0</td>\n",
       "      <td>12.0</td>\n",
       "      <td>0.0</td>\n",
       "      <td>0.0</td>\n",
       "      <td>2.0</td>\n",
       "      <td>...</td>\n",
       "      <td>0.0</td>\n",
       "      <td>2.0</td>\n",
       "      <td>8.0</td>\n",
       "      <td>2.0</td>\n",
       "      <td>6.0</td>\n",
       "      <td>2.0</td>\n",
       "      <td>2.0</td>\n",
       "      <td>0.0</td>\n",
       "      <td>6.0</td>\n",
       "      <td>0.0</td>\n",
       "    </tr>\n",
       "    <tr>\n",
       "      <th>time</th>\n",
       "      <td>6.0</td>\n",
       "      <td>4.0</td>\n",
       "      <td>4.0</td>\n",
       "      <td>0.0</td>\n",
       "      <td>0.0</td>\n",
       "      <td>14.0</td>\n",
       "      <td>0.0</td>\n",
       "      <td>0.0</td>\n",
       "      <td>6.0</td>\n",
       "      <td>4.0</td>\n",
       "      <td>...</td>\n",
       "      <td>2.0</td>\n",
       "      <td>2.0</td>\n",
       "      <td>2.0</td>\n",
       "      <td>8.0</td>\n",
       "      <td>6.0</td>\n",
       "      <td>2.0</td>\n",
       "      <td>2.0</td>\n",
       "      <td>2.0</td>\n",
       "      <td>2.0</td>\n",
       "      <td>2.0</td>\n",
       "    </tr>\n",
       "    <tr>\n",
       "      <th>different</th>\n",
       "      <td>12.0</td>\n",
       "      <td>10.0</td>\n",
       "      <td>8.0</td>\n",
       "      <td>6.0</td>\n",
       "      <td>16.0</td>\n",
       "      <td>6.0</td>\n",
       "      <td>12.0</td>\n",
       "      <td>12.0</td>\n",
       "      <td>6.0</td>\n",
       "      <td>6.0</td>\n",
       "      <td>...</td>\n",
       "      <td>6.0</td>\n",
       "      <td>8.0</td>\n",
       "      <td>6.0</td>\n",
       "      <td>6.0</td>\n",
       "      <td>20.0</td>\n",
       "      <td>4.0</td>\n",
       "      <td>0.0</td>\n",
       "      <td>0.0</td>\n",
       "      <td>4.0</td>\n",
       "      <td>2.0</td>\n",
       "    </tr>\n",
       "    <tr>\n",
       "      <th>another</th>\n",
       "      <td>58.0</td>\n",
       "      <td>8.0</td>\n",
       "      <td>4.0</td>\n",
       "      <td>8.0</td>\n",
       "      <td>22.0</td>\n",
       "      <td>2.0</td>\n",
       "      <td>2.0</td>\n",
       "      <td>6.0</td>\n",
       "      <td>2.0</td>\n",
       "      <td>6.0</td>\n",
       "      <td>...</td>\n",
       "      <td>2.0</td>\n",
       "      <td>6.0</td>\n",
       "      <td>2.0</td>\n",
       "      <td>2.0</td>\n",
       "      <td>4.0</td>\n",
       "      <td>0.0</td>\n",
       "      <td>2.0</td>\n",
       "      <td>2.0</td>\n",
       "      <td>10.0</td>\n",
       "      <td>0.0</td>\n",
       "    </tr>\n",
       "    <tr>\n",
       "      <th>induction</th>\n",
       "      <td>4.0</td>\n",
       "      <td>2.0</td>\n",
       "      <td>8.0</td>\n",
       "      <td>2.0</td>\n",
       "      <td>6.0</td>\n",
       "      <td>4.0</td>\n",
       "      <td>2.0</td>\n",
       "      <td>6.0</td>\n",
       "      <td>8.0</td>\n",
       "      <td>2.0</td>\n",
       "      <td>...</td>\n",
       "      <td>0.0</td>\n",
       "      <td>2.0</td>\n",
       "      <td>2.0</td>\n",
       "      <td>2.0</td>\n",
       "      <td>0.0</td>\n",
       "      <td>2.0</td>\n",
       "      <td>4.0</td>\n",
       "      <td>0.0</td>\n",
       "      <td>0.0</td>\n",
       "      <td>0.0</td>\n",
       "    </tr>\n",
       "    <tr>\n",
       "      <th>question</th>\n",
       "      <td>8.0</td>\n",
       "      <td>8.0</td>\n",
       "      <td>8.0</td>\n",
       "      <td>8.0</td>\n",
       "      <td>14.0</td>\n",
       "      <td>2.0</td>\n",
       "      <td>2.0</td>\n",
       "      <td>4.0</td>\n",
       "      <td>2.0</td>\n",
       "      <td>2.0</td>\n",
       "      <td>...</td>\n",
       "      <td>2.0</td>\n",
       "      <td>2.0</td>\n",
       "      <td>0.0</td>\n",
       "      <td>2.0</td>\n",
       "      <td>0.0</td>\n",
       "      <td>2.0</td>\n",
       "      <td>0.0</td>\n",
       "      <td>4.0</td>\n",
       "      <td>0.0</td>\n",
       "      <td>2.0</td>\n",
       "    </tr>\n",
       "    <tr>\n",
       "      <th>man</th>\n",
       "      <td>10.0</td>\n",
       "      <td>10.0</td>\n",
       "      <td>6.0</td>\n",
       "      <td>0.0</td>\n",
       "      <td>2.0</td>\n",
       "      <td>0.0</td>\n",
       "      <td>2.0</td>\n",
       "      <td>0.0</td>\n",
       "      <td>2.0</td>\n",
       "      <td>2.0</td>\n",
       "      <td>...</td>\n",
       "      <td>0.0</td>\n",
       "      <td>0.0</td>\n",
       "      <td>6.0</td>\n",
       "      <td>2.0</td>\n",
       "      <td>4.0</td>\n",
       "      <td>10.0</td>\n",
       "      <td>0.0</td>\n",
       "      <td>0.0</td>\n",
       "      <td>0.0</td>\n",
       "      <td>2.0</td>\n",
       "    </tr>\n",
       "    <tr>\n",
       "      <th>idea</th>\n",
       "      <td>6.0</td>\n",
       "      <td>0.0</td>\n",
       "      <td>4.0</td>\n",
       "      <td>10.0</td>\n",
       "      <td>6.0</td>\n",
       "      <td>2.0</td>\n",
       "      <td>2.0</td>\n",
       "      <td>0.0</td>\n",
       "      <td>2.0</td>\n",
       "      <td>2.0</td>\n",
       "      <td>...</td>\n",
       "      <td>0.0</td>\n",
       "      <td>2.0</td>\n",
       "      <td>0.0</td>\n",
       "      <td>2.0</td>\n",
       "      <td>2.0</td>\n",
       "      <td>0.0</td>\n",
       "      <td>0.0</td>\n",
       "      <td>2.0</td>\n",
       "      <td>2.0</td>\n",
       "      <td>4.0</td>\n",
       "    </tr>\n",
       "  </tbody>\n",
       "</table>\n",
       "<p>25 rows × 25 columns</p>\n",
       "</div>"
      ],
      "text/plain": [
       "              one  would   may  probability  fact  number  belief  character  \\\n",
       "one           8.0   28.0  12.0          8.0  24.0     8.0     8.0       10.0   \n",
       "would        28.0    8.0   4.0          8.0  10.0    24.0     8.0        8.0   \n",
       "may          12.0    4.0   0.0          8.0   8.0     8.0    14.0       12.0   \n",
       "probability   8.0    8.0   8.0          8.0   8.0     6.0     2.0        4.0   \n",
       "fact         24.0   10.0   8.0          8.0  12.0     4.0     4.0        6.0   \n",
       "number        8.0   24.0   8.0          6.0   4.0    24.0     2.0        6.0   \n",
       "belief        8.0    8.0  14.0          2.0   4.0     2.0    16.0        0.0   \n",
       "character    10.0    8.0  12.0          4.0   6.0     6.0     0.0        8.0   \n",
       "true         12.0    8.0   4.0          8.0   6.0     4.0     8.0        4.0   \n",
       "case          0.0    6.0  14.0          8.0  10.0    10.0     0.0        4.0   \n",
       "inference    10.0    2.0  14.0         10.0   4.0     4.0     0.0        8.0   \n",
       "rule          2.0    6.0   8.0         12.0   6.0     2.0     8.0        0.0   \n",
       "first        10.0   12.0   2.0          6.0   4.0     4.0     0.0        4.0   \n",
       "must          4.0    2.0   0.0          2.0   6.0     2.0     2.0        4.0   \n",
       "certain       8.0    8.0   6.0          0.0   6.0     4.0     2.0       10.0   \n",
       "two          16.0    8.0   6.0         20.0   0.0    20.0     2.0        8.0   \n",
       "thing        10.0    2.0   4.0          4.0   2.0     6.0     2.0        8.0   \n",
       "method        4.0    4.0   6.0          2.0   4.0     0.0    12.0        0.0   \n",
       "time          6.0    4.0   4.0          0.0   0.0    14.0     0.0        0.0   \n",
       "different    12.0   10.0   8.0          6.0  16.0     6.0    12.0       12.0   \n",
       "another      58.0    8.0   4.0          8.0  22.0     2.0     2.0        6.0   \n",
       "induction     4.0    2.0   8.0          2.0   6.0     4.0     2.0        6.0   \n",
       "question      8.0    8.0   8.0          8.0  14.0     2.0     2.0        4.0   \n",
       "man          10.0   10.0   6.0          0.0   2.0     0.0     2.0        0.0   \n",
       "idea          6.0    0.0   4.0         10.0   6.0     2.0     2.0        0.0   \n",
       "\n",
       "             true  case  ...   two  thing  method  time  different  another  \\\n",
       "one          12.0   0.0  ...  16.0   10.0     4.0   6.0       12.0     58.0   \n",
       "would         8.0   6.0  ...   8.0    2.0     4.0   4.0       10.0      8.0   \n",
       "may           4.0  14.0  ...   6.0    4.0     6.0   4.0        8.0      4.0   \n",
       "probability   8.0   8.0  ...  20.0    4.0     2.0   0.0        6.0      8.0   \n",
       "fact          6.0  10.0  ...   0.0    2.0     4.0   0.0       16.0     22.0   \n",
       "number        4.0  10.0  ...  20.0    6.0     0.0  14.0        6.0      2.0   \n",
       "belief        8.0   0.0  ...   2.0    2.0    12.0   0.0       12.0      2.0   \n",
       "character     4.0   4.0  ...   8.0    8.0     0.0   0.0       12.0      6.0   \n",
       "true         20.0   8.0  ...   6.0   20.0     0.0   6.0        6.0      2.0   \n",
       "case          8.0   8.0  ...   0.0    0.0     2.0   4.0        6.0      6.0   \n",
       "inference     2.0   8.0  ...  12.0    2.0     0.0   0.0        8.0      4.0   \n",
       "rule          2.0  20.0  ...   6.0    0.0     0.0   0.0        2.0      2.0   \n",
       "first         2.0   4.0  ...  16.0    2.0     6.0   0.0        2.0      2.0   \n",
       "must          6.0   6.0  ...   2.0    2.0    10.0   2.0        4.0      2.0   \n",
       "certain       4.0  10.0  ...   2.0    8.0     0.0   2.0        0.0      2.0   \n",
       "two           6.0   0.0  ...   4.0    8.0     0.0   2.0        6.0      2.0   \n",
       "thing        20.0   0.0  ...   8.0    8.0     2.0   2.0        8.0      6.0   \n",
       "method        0.0   2.0  ...   0.0    2.0     8.0   2.0        6.0      2.0   \n",
       "time          6.0   4.0  ...   2.0    2.0     2.0   8.0        6.0      2.0   \n",
       "different     6.0   6.0  ...   6.0    8.0     6.0   6.0       20.0      4.0   \n",
       "another       2.0   6.0  ...   2.0    6.0     2.0   2.0        4.0      0.0   \n",
       "induction     8.0   2.0  ...   0.0    2.0     2.0   2.0        0.0      2.0   \n",
       "question      2.0   2.0  ...   2.0    2.0     0.0   2.0        0.0      2.0   \n",
       "man           2.0   2.0  ...   0.0    0.0     6.0   2.0        4.0     10.0   \n",
       "idea          2.0   2.0  ...   0.0    2.0     0.0   2.0        2.0      0.0   \n",
       "\n",
       "             induction  question   man  idea  \n",
       "one                4.0       8.0  10.0   6.0  \n",
       "would              2.0       8.0  10.0   0.0  \n",
       "may                8.0       8.0   6.0   4.0  \n",
       "probability        2.0       8.0   0.0  10.0  \n",
       "fact               6.0      14.0   2.0   6.0  \n",
       "number             4.0       2.0   0.0   2.0  \n",
       "belief             2.0       2.0   2.0   2.0  \n",
       "character          6.0       4.0   0.0   0.0  \n",
       "true               8.0       2.0   2.0   2.0  \n",
       "case               2.0       2.0   2.0   2.0  \n",
       "inference          8.0       0.0   6.0   0.0  \n",
       "rule               4.0       0.0   0.0   0.0  \n",
       "first              0.0      12.0   0.0   0.0  \n",
       "must               0.0       0.0   4.0   2.0  \n",
       "certain            2.0       2.0   4.0   0.0  \n",
       "two                0.0       2.0   0.0   0.0  \n",
       "thing              2.0       2.0   0.0   2.0  \n",
       "method             2.0       0.0   6.0   0.0  \n",
       "time               2.0       2.0   2.0   2.0  \n",
       "different          0.0       0.0   4.0   2.0  \n",
       "another            2.0       2.0  10.0   0.0  \n",
       "induction          4.0       0.0   0.0   0.0  \n",
       "question           0.0       4.0   0.0   2.0  \n",
       "man                0.0       0.0   0.0   2.0  \n",
       "idea               0.0       2.0   2.0   4.0  \n",
       "\n",
       "[25 rows x 25 columns]"
      ]
     },
     "execution_count": 14,
     "metadata": {},
     "output_type": "execute_result"
    }
   ],
   "source": [
    "prepared_corpus, small_vocab = prepare_corpus(corpus, 25)\n",
    "small_count_matrix, small_vocab_index = generate_count_matrix(prepared_corpus, small_vocab, 5)\n",
    "pd.DataFrame(small_count_matrix, index=small_vocab_index, columns=small_vocab_index)"
   ]
  },
  {
   "cell_type": "markdown",
   "metadata": {},
   "source": [
    "#### Visualisation\n",
    "\n",
    "Such a small matrix can be visualised using a heatmap."
   ]
  },
  {
   "cell_type": "code",
   "execution_count": 15,
   "metadata": {},
   "outputs": [
    {
     "data": {
      "text/plain": [
       "<matplotlib.image.AxesImage at 0x190f892b1c0>"
      ]
     },
     "execution_count": 15,
     "metadata": {},
     "output_type": "execute_result"
    },
    {
     "data": {
      "image/png": "[encoded data removed]",
      "text/plain": [
       "<Figure size 432x288 with 1 Axes>"
      ]
     },
     "metadata": {
      "needs_background": "light"
     },
     "output_type": "display_data"
    }
   ],
   "source": [
    "plt.imshow(small_count_matrix, cmap='hot', interpolation='nearest')"
   ]
  },
  {
   "cell_type": "markdown",
   "metadata": {},
   "source": [
    "The following cell can be converted to code to create a count matrix for the Brown corpus. It takes quite a while to run, however, and therefore I have disabled."
   ]
  },
  {
   "cell_type": "raw",
   "metadata": {},
   "source": [
    "news_text = list(brown.words(categories=\"news\"))\n",
    "brown_corpus = lemmatize_corpus(news_text)\n",
    "brown_vocab = list(set(brown_corpus).difference(stop_words))\n",
    "brown_count_matrix, brown_vocab_index = generate_count_matrix(brown_corpus, brown_vocab)\n",
    "pd.DataFrame(brown_count_matrix, index=brown_vocab_index, columns=brown_vocab_index)"
   ]
  },
  {
   "cell_type": "markdown",
   "metadata": {},
   "source": [
    "## Similarity Scoring\n",
    "\n",
    "One of the core application of vector representations is to measure the similarity between concepts. We use cosine similarity between two vectors to calculate their similarity."
   ]
  },
  {
   "cell_type": "code",
   "execution_count": 16,
   "metadata": {},
   "outputs": [],
   "source": [
    "def cosine_similarity(first_vector: np.array, second_vector: np.array) -> float:\n",
    "    return 1 - distance.cosine(first_vector, second_vector)"
   ]
  },
  {
   "cell_type": "markdown",
   "metadata": {},
   "source": [
    "I also create a function to extract word vectors from the count matrix."
   ]
  },
  {
   "cell_type": "code",
   "execution_count": 17,
   "metadata": {},
   "outputs": [],
   "source": [
    "def get_vector(word: str, count_matrix: np.matrix, vocab_index: dict) -> np.array:\n",
    "    i = vocab_index[word]\n",
    "    return np.array(count_matrix[i,:]).squeeze()"
   ]
  },
  {
   "cell_type": "markdown",
   "metadata": {},
   "source": [
    "In the following cell I extract the vectors vectors for three words:\n",
    "- \"belief\"\n",
    "- \"horror\"\n",
    "- \"method\""
   ]
  },
  {
   "cell_type": "code",
   "execution_count": 18,
   "metadata": {},
   "outputs": [],
   "source": [
    "b_vector, h_vector, m_vector = map(lambda w: get_vector(w, count_matrix, vocab_index), (\"belief\", \"horror\", \"method\"))"
   ]
  },
  {
   "cell_type": "markdown",
   "metadata": {},
   "source": [
    "At the moment, our vectors have the length of the entire vocabulary (excluding stopwords)"
   ]
  },
  {
   "cell_type": "code",
   "execution_count": 19,
   "metadata": {},
   "outputs": [
    {
     "data": {
      "text/plain": [
       "(3857,)"
      ]
     },
     "execution_count": 19,
     "metadata": {},
     "output_type": "execute_result"
    }
   ],
   "source": [
    "b_vector.shape"
   ]
  },
  {
   "cell_type": "markdown",
   "metadata": {},
   "source": [
    "### Sanity Check\n",
    "\n",
    "Cosine similarity lies in the range $[-1, 1]$. A vector should have cosine similarity of 1 to itself and -1 to itself multiplied by -1."
   ]
  },
  {
   "cell_type": "code",
   "execution_count": 20,
   "metadata": {},
   "outputs": [
    {
     "data": {
      "text/plain": [
       "1.0"
      ]
     },
     "execution_count": 20,
     "metadata": {},
     "output_type": "execute_result"
    }
   ],
   "source": [
    "cosine_similarity(b_vector, b_vector)"
   ]
  },
  {
   "cell_type": "code",
   "execution_count": 21,
   "metadata": {},
   "outputs": [
    {
     "data": {
      "text/plain": [
       "-1.0"
      ]
     },
     "execution_count": 21,
     "metadata": {},
     "output_type": "execute_result"
    }
   ],
   "source": [
    "cosine_similarity(b_vector, -1*b_vector)"
   ]
  },
  {
   "cell_type": "markdown",
   "metadata": {},
   "source": [
    "Cosine similarity between \"belief\" and \"horror\"."
   ]
  },
  {
   "cell_type": "code",
   "execution_count": 22,
   "metadata": {},
   "outputs": [
    {
     "data": {
      "text/plain": [
       "0.015891043154093176"
      ]
     },
     "execution_count": 22,
     "metadata": {},
     "output_type": "execute_result"
    }
   ],
   "source": [
    "cosine_similarity(b_vector, h_vector)"
   ]
  },
  {
   "cell_type": "markdown",
   "metadata": {},
   "source": [
    "Cosine similarity is a symmetric function, i.e. if we swap the two vectors we get the same result."
   ]
  },
  {
   "cell_type": "code",
   "execution_count": 23,
   "metadata": {},
   "outputs": [
    {
     "data": {
      "text/plain": [
       "0.015891043154093176"
      ]
     },
     "execution_count": 23,
     "metadata": {},
     "output_type": "execute_result"
    }
   ],
   "source": [
    "cosine_similarity(h_vector, b_vector)"
   ]
  },
  {
   "cell_type": "markdown",
   "metadata": {},
   "source": [
    "Intuitively, \"belief\" and \"method\" are more closely related than \"belief\" and \"horror\". With cosine similarity we can test this intuition."
   ]
  },
  {
   "cell_type": "code",
   "execution_count": 24,
   "metadata": {},
   "outputs": [
    {
     "data": {
      "text/plain": [
       "0.36151266252562264"
      ]
     },
     "execution_count": 24,
     "metadata": {},
     "output_type": "execute_result"
    }
   ],
   "source": [
    "cosine_similarity(b_vector, m_vector)"
   ]
  },
  {
   "cell_type": "code",
   "execution_count": 25,
   "metadata": {},
   "outputs": [
    {
     "data": {
      "text/plain": [
       "0.10048348388226758"
      ]
     },
     "execution_count": 25,
     "metadata": {},
     "output_type": "execute_result"
    }
   ],
   "source": [
    "cosine_similarity(h_vector, m_vector)"
   ]
  },
  {
   "cell_type": "markdown",
   "metadata": {},
   "source": [
    "Because the matrix is sparse, the cosine similarity often becomes 0."
   ]
  },
  {
   "cell_type": "code",
   "execution_count": 26,
   "metadata": {},
   "outputs": [
    {
     "data": {
      "text/plain": [
       "0.0"
      ]
     },
     "execution_count": 26,
     "metadata": {},
     "output_type": "execute_result"
    }
   ],
   "source": [
    "g_vector = get_vector(\"german\", count_matrix, vocab_index)\n",
    "cosine_similarity(h_vector, g_vector)"
   ]
  },
  {
   "cell_type": "markdown",
   "metadata": {},
   "source": [
    "## Calculate Pointwise Mutual Information\n",
    "\n",
    "Mere counts lead to extremely sparse matrices and do not account for the differences in frequency between words at all. A relatively simple approach to address these issues is to use *Pointwise Mutual Information* (PMI). For the occurence of two words in the same window, PMI is defined as \n",
    "\n",
    "\\begin{equation}\n",
    "    \\text{log}(\\frac{\\text{P}(A,B)}{\\text{P}(A)*\\text{P}(B)})\n",
    "\\end{equation}\n",
    "\n",
    "We estimate the probabilities using frequency counts from the count matrix."
   ]
  },
  {
   "cell_type": "code",
   "execution_count": 27,
   "metadata": {},
   "outputs": [],
   "source": [
    "def pmi_calculation(count_matrix: np.matrix, smoothing: float = 0.01) -> np.matrix:\n",
    "    count_array = np.array(count_matrix) + smoothing\n",
    "    \n",
    "    num_ngrams = count_array.sum() / 2\n",
    "    all_sums = np.sum(count_array, axis=0)\n",
    "    \n",
    "    pmi_array = np.zeros_like(count_array)\n",
    "    \n",
    "    for i1, i2 in zip(*np.triu_indices_from(count_array)):\n",
    "        p_ab = count_array[i1, i2] / num_ngrams\n",
    "        p_a = all_sums[i1] / num_ngrams\n",
    "        p_b = all_sums[i2] / num_ngrams\n",
    "                \n",
    "        pmi_array[i1, i2] = np.log(p_ab/(p_a*p_b))\n",
    "        \n",
    "    return np.matrix(np.where(pmi_array,pmi_array,pmi_array.T))"
   ]
  },
  {
   "cell_type": "code",
   "execution_count": 28,
   "metadata": {},
   "outputs": [
    {
     "data": {
      "text/html": [
       "<div>\n",
       "<style scoped>\n",
       "    .dataframe tbody tr th:only-of-type {\n",
       "        vertical-align: middle;\n",
       "    }\n",
       "\n",
       "    .dataframe tbody tr th {\n",
       "        vertical-align: top;\n",
       "    }\n",
       "\n",
       "    .dataframe thead th {\n",
       "        text-align: right;\n",
       "    }\n",
       "</style>\n",
       "<table border=\"1\" class=\"dataframe\">\n",
       "  <thead>\n",
       "    <tr style=\"text-align: right;\">\n",
       "      <th></th>\n",
       "      <th>mentioned</th>\n",
       "      <th>impossibility</th>\n",
       "      <th>upon</th>\n",
       "      <th>inductively</th>\n",
       "      <th>untraveled</th>\n",
       "      <th>intent</th>\n",
       "      <th>ask</th>\n",
       "      <th>affirm</th>\n",
       "      <th>unfamiliar</th>\n",
       "      <th>un-b-ness</th>\n",
       "      <th>...</th>\n",
       "      <th>evolution</th>\n",
       "      <th>unrelated</th>\n",
       "      <th>wavering</th>\n",
       "      <th>denied</th>\n",
       "      <th>similarity</th>\n",
       "      <th>candour</th>\n",
       "      <th>refined</th>\n",
       "      <th>lightning</th>\n",
       "      <th>limited</th>\n",
       "      <th>exist</th>\n",
       "    </tr>\n",
       "  </thead>\n",
       "  <tbody>\n",
       "    <tr>\n",
       "      <th>mentioned</th>\n",
       "      <td>-0.393776</td>\n",
       "      <td>-0.720570</td>\n",
       "      <td>-3.066895</td>\n",
       "      <td>-0.588299</td>\n",
       "      <td>-0.393776</td>\n",
       "      <td>-0.349881</td>\n",
       "      <td>-1.294006</td>\n",
       "      <td>-0.514965</td>\n",
       "      <td>-0.349881</td>\n",
       "      <td>-0.552304</td>\n",
       "      <td>...</td>\n",
       "      <td>-0.393776</td>\n",
       "      <td>-0.349881</td>\n",
       "      <td>-0.393776</td>\n",
       "      <td>-0.435826</td>\n",
       "      <td>-0.623042</td>\n",
       "      <td>-0.349881</td>\n",
       "      <td>-0.435826</td>\n",
       "      <td>-0.514965</td>\n",
       "      <td>-1.345050</td>\n",
       "      <td>-1.553876</td>\n",
       "    </tr>\n",
       "    <tr>\n",
       "      <th>impossibility</th>\n",
       "      <td>-0.720570</td>\n",
       "      <td>-1.047363</td>\n",
       "      <td>-3.393689</td>\n",
       "      <td>4.388213</td>\n",
       "      <td>-0.720570</td>\n",
       "      <td>-0.676674</td>\n",
       "      <td>-1.620799</td>\n",
       "      <td>-0.841759</td>\n",
       "      <td>-0.676674</td>\n",
       "      <td>-0.879097</td>\n",
       "      <td>...</td>\n",
       "      <td>-0.720570</td>\n",
       "      <td>-0.676674</td>\n",
       "      <td>-0.720570</td>\n",
       "      <td>-0.762619</td>\n",
       "      <td>-0.949836</td>\n",
       "      <td>-0.676674</td>\n",
       "      <td>-0.762619</td>\n",
       "      <td>-0.841759</td>\n",
       "      <td>-1.671844</td>\n",
       "      <td>-1.880669</td>\n",
       "    </tr>\n",
       "    <tr>\n",
       "      <th>upon</th>\n",
       "      <td>-3.066895</td>\n",
       "      <td>-3.393689</td>\n",
       "      <td>-5.740014</td>\n",
       "      <td>-3.261418</td>\n",
       "      <td>-3.066895</td>\n",
       "      <td>-3.023000</td>\n",
       "      <td>-3.967125</td>\n",
       "      <td>-3.188084</td>\n",
       "      <td>-3.023000</td>\n",
       "      <td>-3.225423</td>\n",
       "      <td>...</td>\n",
       "      <td>-3.066895</td>\n",
       "      <td>-3.023000</td>\n",
       "      <td>-3.066895</td>\n",
       "      <td>-3.108945</td>\n",
       "      <td>-3.296161</td>\n",
       "      <td>-3.023000</td>\n",
       "      <td>-3.108945</td>\n",
       "      <td>2.115221</td>\n",
       "      <td>-4.018169</td>\n",
       "      <td>-4.226995</td>\n",
       "    </tr>\n",
       "    <tr>\n",
       "      <th>inductively</th>\n",
       "      <td>-0.588299</td>\n",
       "      <td>4.388213</td>\n",
       "      <td>-3.261418</td>\n",
       "      <td>-0.782821</td>\n",
       "      <td>-0.588299</td>\n",
       "      <td>-0.544403</td>\n",
       "      <td>-1.488528</td>\n",
       "      <td>-0.709488</td>\n",
       "      <td>-0.544403</td>\n",
       "      <td>-0.746826</td>\n",
       "      <td>...</td>\n",
       "      <td>-0.588299</td>\n",
       "      <td>-0.544403</td>\n",
       "      <td>-0.588299</td>\n",
       "      <td>-0.630348</td>\n",
       "      <td>-0.817565</td>\n",
       "      <td>-0.544403</td>\n",
       "      <td>-0.630348</td>\n",
       "      <td>-0.709488</td>\n",
       "      <td>-1.539573</td>\n",
       "      <td>-1.748398</td>\n",
       "    </tr>\n",
       "    <tr>\n",
       "      <th>untraveled</th>\n",
       "      <td>-0.393776</td>\n",
       "      <td>-0.720570</td>\n",
       "      <td>-3.066895</td>\n",
       "      <td>-0.588299</td>\n",
       "      <td>-0.393776</td>\n",
       "      <td>-0.349881</td>\n",
       "      <td>-1.294006</td>\n",
       "      <td>-0.514965</td>\n",
       "      <td>-0.349881</td>\n",
       "      <td>-0.552304</td>\n",
       "      <td>...</td>\n",
       "      <td>-0.393776</td>\n",
       "      <td>-0.349881</td>\n",
       "      <td>-0.393776</td>\n",
       "      <td>-0.435826</td>\n",
       "      <td>-0.623042</td>\n",
       "      <td>-0.349881</td>\n",
       "      <td>-0.435826</td>\n",
       "      <td>-0.514965</td>\n",
       "      <td>-1.345050</td>\n",
       "      <td>-1.553876</td>\n",
       "    </tr>\n",
       "    <tr>\n",
       "      <th>...</th>\n",
       "      <td>...</td>\n",
       "      <td>...</td>\n",
       "      <td>...</td>\n",
       "      <td>...</td>\n",
       "      <td>...</td>\n",
       "      <td>...</td>\n",
       "      <td>...</td>\n",
       "      <td>...</td>\n",
       "      <td>...</td>\n",
       "      <td>...</td>\n",
       "      <td>...</td>\n",
       "      <td>...</td>\n",
       "      <td>...</td>\n",
       "      <td>...</td>\n",
       "      <td>...</td>\n",
       "      <td>...</td>\n",
       "      <td>...</td>\n",
       "      <td>...</td>\n",
       "      <td>...</td>\n",
       "      <td>...</td>\n",
       "      <td>...</td>\n",
       "    </tr>\n",
       "    <tr>\n",
       "      <th>candour</th>\n",
       "      <td>-0.349881</td>\n",
       "      <td>-0.676674</td>\n",
       "      <td>-3.023000</td>\n",
       "      <td>-0.544403</td>\n",
       "      <td>-0.349881</td>\n",
       "      <td>-0.305985</td>\n",
       "      <td>-1.250110</td>\n",
       "      <td>-0.471070</td>\n",
       "      <td>-0.305985</td>\n",
       "      <td>-0.508409</td>\n",
       "      <td>...</td>\n",
       "      <td>-0.349881</td>\n",
       "      <td>-0.305985</td>\n",
       "      <td>-0.349881</td>\n",
       "      <td>-0.391930</td>\n",
       "      <td>-0.579147</td>\n",
       "      <td>-0.305985</td>\n",
       "      <td>-0.391930</td>\n",
       "      <td>-0.471070</td>\n",
       "      <td>-1.301155</td>\n",
       "      <td>-1.509981</td>\n",
       "    </tr>\n",
       "    <tr>\n",
       "      <th>refined</th>\n",
       "      <td>-0.435826</td>\n",
       "      <td>-0.762619</td>\n",
       "      <td>-3.108945</td>\n",
       "      <td>-0.630348</td>\n",
       "      <td>-0.435826</td>\n",
       "      <td>-0.391930</td>\n",
       "      <td>-1.336055</td>\n",
       "      <td>-0.557015</td>\n",
       "      <td>-0.391930</td>\n",
       "      <td>-0.594354</td>\n",
       "      <td>...</td>\n",
       "      <td>-0.435826</td>\n",
       "      <td>-0.391930</td>\n",
       "      <td>-0.435826</td>\n",
       "      <td>-0.477875</td>\n",
       "      <td>-0.665092</td>\n",
       "      <td>-0.391930</td>\n",
       "      <td>-0.477875</td>\n",
       "      <td>-0.557015</td>\n",
       "      <td>-1.387100</td>\n",
       "      <td>-1.595926</td>\n",
       "    </tr>\n",
       "    <tr>\n",
       "      <th>lightning</th>\n",
       "      <td>-0.514965</td>\n",
       "      <td>-0.841759</td>\n",
       "      <td>2.115221</td>\n",
       "      <td>-0.709488</td>\n",
       "      <td>-0.514965</td>\n",
       "      <td>-0.471070</td>\n",
       "      <td>-1.415195</td>\n",
       "      <td>-0.636155</td>\n",
       "      <td>-0.471070</td>\n",
       "      <td>-0.673493</td>\n",
       "      <td>...</td>\n",
       "      <td>-0.514965</td>\n",
       "      <td>-0.471070</td>\n",
       "      <td>-0.514965</td>\n",
       "      <td>-0.557015</td>\n",
       "      <td>-0.744232</td>\n",
       "      <td>-0.471070</td>\n",
       "      <td>-0.557015</td>\n",
       "      <td>-0.636155</td>\n",
       "      <td>-1.466239</td>\n",
       "      <td>-1.675065</td>\n",
       "    </tr>\n",
       "    <tr>\n",
       "      <th>limited</th>\n",
       "      <td>-1.345050</td>\n",
       "      <td>-1.671844</td>\n",
       "      <td>-4.018169</td>\n",
       "      <td>-1.539573</td>\n",
       "      <td>-1.345050</td>\n",
       "      <td>-1.301155</td>\n",
       "      <td>-2.245280</td>\n",
       "      <td>-1.466239</td>\n",
       "      <td>-1.301155</td>\n",
       "      <td>-1.503578</td>\n",
       "      <td>...</td>\n",
       "      <td>-1.345050</td>\n",
       "      <td>-1.301155</td>\n",
       "      <td>-1.345050</td>\n",
       "      <td>-1.387100</td>\n",
       "      <td>-1.574316</td>\n",
       "      <td>-1.301155</td>\n",
       "      <td>-1.387100</td>\n",
       "      <td>-1.466239</td>\n",
       "      <td>4.389537</td>\n",
       "      <td>-2.505150</td>\n",
       "    </tr>\n",
       "    <tr>\n",
       "      <th>exist</th>\n",
       "      <td>-1.553876</td>\n",
       "      <td>-1.880669</td>\n",
       "      <td>-4.226995</td>\n",
       "      <td>-1.748398</td>\n",
       "      <td>-1.553876</td>\n",
       "      <td>-1.509981</td>\n",
       "      <td>-2.454106</td>\n",
       "      <td>-1.675065</td>\n",
       "      <td>-1.509981</td>\n",
       "      <td>-1.712404</td>\n",
       "      <td>...</td>\n",
       "      <td>-1.553876</td>\n",
       "      <td>-1.509981</td>\n",
       "      <td>-1.553876</td>\n",
       "      <td>-1.595926</td>\n",
       "      <td>-1.783142</td>\n",
       "      <td>-1.509981</td>\n",
       "      <td>-1.595926</td>\n",
       "      <td>-1.675065</td>\n",
       "      <td>-2.505150</td>\n",
       "      <td>-2.713976</td>\n",
       "    </tr>\n",
       "  </tbody>\n",
       "</table>\n",
       "<p>3857 rows × 3857 columns</p>\n",
       "</div>"
      ],
      "text/plain": [
       "               mentioned  impossibility      upon  inductively  untraveled  \\\n",
       "mentioned      -0.393776      -0.720570 -3.066895    -0.588299   -0.393776   \n",
       "impossibility  -0.720570      -1.047363 -3.393689     4.388213   -0.720570   \n",
       "upon           -3.066895      -3.393689 -5.740014    -3.261418   -3.066895   \n",
       "inductively    -0.588299       4.388213 -3.261418    -0.782821   -0.588299   \n",
       "untraveled     -0.393776      -0.720570 -3.066895    -0.588299   -0.393776   \n",
       "...                  ...            ...       ...          ...         ...   \n",
       "candour        -0.349881      -0.676674 -3.023000    -0.544403   -0.349881   \n",
       "refined        -0.435826      -0.762619 -3.108945    -0.630348   -0.435826   \n",
       "lightning      -0.514965      -0.841759  2.115221    -0.709488   -0.514965   \n",
       "limited        -1.345050      -1.671844 -4.018169    -1.539573   -1.345050   \n",
       "exist          -1.553876      -1.880669 -4.226995    -1.748398   -1.553876   \n",
       "\n",
       "                 intent       ask    affirm  unfamiliar  un-b-ness  ...  \\\n",
       "mentioned     -0.349881 -1.294006 -0.514965   -0.349881  -0.552304  ...   \n",
       "impossibility -0.676674 -1.620799 -0.841759   -0.676674  -0.879097  ...   \n",
       "upon          -3.023000 -3.967125 -3.188084   -3.023000  -3.225423  ...   \n",
       "inductively   -0.544403 -1.488528 -0.709488   -0.544403  -0.746826  ...   \n",
       "untraveled    -0.349881 -1.294006 -0.514965   -0.349881  -0.552304  ...   \n",
       "...                 ...       ...       ...         ...        ...  ...   \n",
       "candour       -0.305985 -1.250110 -0.471070   -0.305985  -0.508409  ...   \n",
       "refined       -0.391930 -1.336055 -0.557015   -0.391930  -0.594354  ...   \n",
       "lightning     -0.471070 -1.415195 -0.636155   -0.471070  -0.673493  ...   \n",
       "limited       -1.301155 -2.245280 -1.466239   -1.301155  -1.503578  ...   \n",
       "exist         -1.509981 -2.454106 -1.675065   -1.509981  -1.712404  ...   \n",
       "\n",
       "               evolution  unrelated  wavering    denied  similarity   candour  \\\n",
       "mentioned      -0.393776  -0.349881 -0.393776 -0.435826   -0.623042 -0.349881   \n",
       "impossibility  -0.720570  -0.676674 -0.720570 -0.762619   -0.949836 -0.676674   \n",
       "upon           -3.066895  -3.023000 -3.066895 -3.108945   -3.296161 -3.023000   \n",
       "inductively    -0.588299  -0.544403 -0.588299 -0.630348   -0.817565 -0.544403   \n",
       "untraveled     -0.393776  -0.349881 -0.393776 -0.435826   -0.623042 -0.349881   \n",
       "...                  ...        ...       ...       ...         ...       ...   \n",
       "candour        -0.349881  -0.305985 -0.349881 -0.391930   -0.579147 -0.305985   \n",
       "refined        -0.435826  -0.391930 -0.435826 -0.477875   -0.665092 -0.391930   \n",
       "lightning      -0.514965  -0.471070 -0.514965 -0.557015   -0.744232 -0.471070   \n",
       "limited        -1.345050  -1.301155 -1.345050 -1.387100   -1.574316 -1.301155   \n",
       "exist          -1.553876  -1.509981 -1.553876 -1.595926   -1.783142 -1.509981   \n",
       "\n",
       "                refined  lightning   limited     exist  \n",
       "mentioned     -0.435826  -0.514965 -1.345050 -1.553876  \n",
       "impossibility -0.762619  -0.841759 -1.671844 -1.880669  \n",
       "upon          -3.108945   2.115221 -4.018169 -4.226995  \n",
       "inductively   -0.630348  -0.709488 -1.539573 -1.748398  \n",
       "untraveled    -0.435826  -0.514965 -1.345050 -1.553876  \n",
       "...                 ...        ...       ...       ...  \n",
       "candour       -0.391930  -0.471070 -1.301155 -1.509981  \n",
       "refined       -0.477875  -0.557015 -1.387100 -1.595926  \n",
       "lightning     -0.557015  -0.636155 -1.466239 -1.675065  \n",
       "limited       -1.387100  -1.466239  4.389537 -2.505150  \n",
       "exist         -1.595926  -1.675065 -2.505150 -2.713976  \n",
       "\n",
       "[3857 rows x 3857 columns]"
      ]
     },
     "execution_count": 28,
     "metadata": {},
     "output_type": "execute_result"
    }
   ],
   "source": [
    "p_matrix = pmi_calculation(count_matrix)\n",
    "pd.DataFrame(p_matrix, index=vocab_index, columns=vocab_index)"
   ]
  },
  {
   "cell_type": "markdown",
   "metadata": {},
   "source": [
    "We can also calculate the cosine similarity for the vectors in the matrix after applying PMI."
   ]
  },
  {
   "cell_type": "code",
   "execution_count": 29,
   "metadata": {},
   "outputs": [
    {
     "data": {
      "text/plain": [
       "0.7134002139555036"
      ]
     },
     "execution_count": 29,
     "metadata": {},
     "output_type": "execute_result"
    }
   ],
   "source": [
    "b_vector, h_vector, m_vector = map(lambda w: get_vector(w, p_matrix, vocab_index), (\"belief\", \"horror\", \"method\"))\n",
    "cosine_similarity(b_vector, h_vector)"
   ]
  },
  {
   "cell_type": "code",
   "execution_count": 30,
   "metadata": {},
   "outputs": [
    {
     "data": {
      "text/plain": [
       "0.8776176723516733"
      ]
     },
     "execution_count": 30,
     "metadata": {},
     "output_type": "execute_result"
    }
   ],
   "source": [
    "cosine_similarity(b_vector, m_vector)"
   ]
  },
  {
   "cell_type": "code",
   "execution_count": 31,
   "metadata": {},
   "outputs": [
    {
     "data": {
      "text/plain": [
       "0.7484418637957632"
      ]
     },
     "execution_count": 31,
     "metadata": {},
     "output_type": "execute_result"
    }
   ],
   "source": [
    "cosine_similarity(h_vector, m_vector)"
   ]
  },
  {
   "cell_type": "markdown",
   "metadata": {},
   "source": [
    "### Smoothing Problem\n",
    "`log(0)` is undefined and to avoid it I use smoothing. The problem is that adding a count to every dimension quickly overwhelms the information in the vectors. We don't have that many occurrences in the first place. I had to use quite a small smoothing factor to get reasonable results. However, you will still finde that \"horror\" and \"german\" lie very close together. While this might tempt us to derive rash conclusions about what it means to be german, it is more likely an artefact resulting from extremely sparse word vectors which are then dominated by smoothing."
   ]
  },
  {
   "cell_type": "code",
   "execution_count": 32,
   "metadata": {},
   "outputs": [
    {
     "data": {
      "text/plain": [
       "0.9564096949398055"
      ]
     },
     "execution_count": 32,
     "metadata": {},
     "output_type": "execute_result"
    }
   ],
   "source": [
    "g_vector = get_vector(\"german\", p_matrix, vocab_index)\n",
    "cosine_similarity(h_vector, g_vector)"
   ]
  },
  {
   "cell_type": "markdown",
   "metadata": {},
   "source": [
    "## Dimensionality Reduction\n",
    "\n",
    "So far, the vectors all had the dimensionality of the entire vocabulary. For our small corpus, that was still workable but with a larger vocabulary the dimensionality becomes excessive. To reduce the dimensionality, Singular Value Decomposition is frequently used. I reduce the word vectors to 100 dimensions."
   ]
  },
  {
   "cell_type": "code",
   "execution_count": 33,
   "metadata": {},
   "outputs": [],
   "source": [
    "def svd_reduction(matrix: np.matrix, n_components: int = 100) -> np.matrix:\n",
    "    u, s, vh = svd(matrix,\n",
    "                   full_matrices=False,\n",
    "                   compute_uv=True)\n",
    "    \n",
    "    u = np.array(u) # multiplication will fail if u is a matrix, because the axes are not appropriately reduced\n",
    "\n",
    "    reduced_u = u[:, :n_components]\n",
    "    reduced_s = s[:n_components]\n",
    "    \n",
    "    return np.matrix(reduced_u * reduced_s)"
   ]
  },
  {
   "cell_type": "code",
   "execution_count": null,
   "metadata": {},
   "outputs": [],
   "source": [
    "reduced_matrix = svd_reduction(p_matrix)\n",
    "reduced_matrix.shape"
   ]
  },
  {
   "cell_type": "code",
   "execution_count": null,
   "metadata": {},
   "outputs": [],
   "source": [
    "pd.DataFrame(reduced_matrix, index=vocab_index)"
   ]
  },
  {
   "cell_type": "markdown",
   "metadata": {},
   "source": [
    "As we can see, the resulting word vectors still exhibit comparable cosine similarity."
   ]
  },
  {
   "cell_type": "code",
   "execution_count": null,
   "metadata": {},
   "outputs": [],
   "source": [
    "b_vector, h_vector, m_vector = map(lambda w: get_vector(w, reduced_matrix, vocab_index), (\"belief\", \"horror\", \"method\"))\n",
    "cosine_similarity(b_vector, h_vector)"
   ]
  },
  {
   "cell_type": "code",
   "execution_count": null,
   "metadata": {},
   "outputs": [],
   "source": [
    "cosine_similarity(b_vector, m_vector)"
   ]
  },
  {
   "cell_type": "code",
   "execution_count": null,
   "metadata": {},
   "outputs": [],
   "source": [
    "cosine_similarity(h_vector, m_vector)"
   ]
  },
  {
   "cell_type": "markdown",
   "metadata": {},
   "source": [
    "## Word2Vec Comparison\n",
    "\n",
    "Having tried out some old-school techniques, how does Word2Vec compare? A quick comparison suggets its benefits:\n",
    "- Existing libraries make creation and use very ease\n",
    "- The resulting vectors fit our linguistic intuitions, in this case that \"belief\" and \"method\" are closer than e.g. than \"belief\" and \"horror\""
   ]
  },
  {
   "cell_type": "code",
   "execution_count": null,
   "metadata": {},
   "outputs": [],
   "source": [
    "sent_text = nltk.sent_tokenize(corpus)\n",
    "sent_tokenized_text = [nltk.word_tokenize(sent) for sent in sent_text]"
   ]
  },
  {
   "cell_type": "code",
   "execution_count": null,
   "metadata": {},
   "outputs": [],
   "source": [
    "from gensim.test.utils import common_texts\n",
    "from gensim.models import Word2Vec"
   ]
  },
  {
   "cell_type": "code",
   "execution_count": null,
   "metadata": {},
   "outputs": [],
   "source": [
    "wv_model = Word2Vec(sentences=sent_tokenized_text, size=100, window=10, min_count=1, workers=4)"
   ]
  },
  {
   "cell_type": "raw",
   "metadata": {},
   "source": [
    "wv_model.vocabulary"
   ]
  },
  {
   "cell_type": "code",
   "execution_count": null,
   "metadata": {},
   "outputs": [],
   "source": [
    "b_wv_vector, h_wv_vector, m_wv_vector = map(lambda w: wv_model.wv[w], (\"belief\", \"horror\", \"method\"))"
   ]
  },
  {
   "cell_type": "code",
   "execution_count": null,
   "metadata": {},
   "outputs": [],
   "source": [
    "cosine_similarity(b_wv_vector, b_wv_vector)"
   ]
  },
  {
   "cell_type": "code",
   "execution_count": null,
   "metadata": {},
   "outputs": [],
   "source": [
    "cosine_similarity(b_wv_vector, h_wv_vector)"
   ]
  },
  {
   "cell_type": "code",
   "execution_count": null,
   "metadata": {},
   "outputs": [],
   "source": [
    "cosine_similarity(b_wv_vector, m_wv_vector)"
   ]
  },
  {
   "cell_type": "code",
   "execution_count": null,
   "metadata": {},
   "outputs": [],
   "source": [
    "cosine_similarity(h_wv_vector, m_wv_vector)"
   ]
  }
 ],
 "metadata": {
  "kernelspec": {
   "display_name": "Python 3",
   "language": "python",
   "name": "python3"
  },
  "language_info": {
   "codemirror_mode": {
    "name": "ipython",
    "version": 3
   },
   "file_extension": ".py",
   "mimetype": "text/x-python",
   "name": "python",
   "nbconvert_exporter": "python",
   "pygments_lexer": "ipython3",
   "version": "3.8.3"
  }
 },
 "nbformat": 4,
 "nbformat_minor": 4
}
